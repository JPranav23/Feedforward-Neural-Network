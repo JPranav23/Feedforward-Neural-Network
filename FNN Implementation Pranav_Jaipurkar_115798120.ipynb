{
 "cells": [
  {
   "cell_type": "code",
   "execution_count": null,
   "metadata": {},
   "outputs": [],
   "source": [
    "# Logistic Regression Model"
   ]
  },
  {
   "cell_type": "code",
   "execution_count": 68,
   "metadata": {},
   "outputs": [],
   "source": [
    "# Importing Packages\n",
    "\n",
    "import numpy as np\n",
    "import matplotlib.pyplot as plt\n",
    "import h5py\n",
    "import scipy\n",
    "from PIL import Image\n",
    "from scipy import ndimage\n",
    "import glob\n",
    "from sklearn.model_selection import train_test_split\n",
    "from load_dataset import*\n",
    "%matplotlib inline"
   ]
  },
  {
   "cell_type": "code",
   "execution_count": 69,
   "metadata": {},
   "outputs": [],
   "source": [
    "# Function for converting image to data\n",
    "\n",
    "def convert_image_to_data(image, WIDTH, HEIGHT):\n",
    "    image_resized = Image.open(image).resize((WIDTH, HEIGHT))\n",
    "    image_array = np.array(image_resized).T\n",
    "    return image_array"
   ]
  },
  {
   "cell_type": "code",
   "execution_count": 70,
   "metadata": {},
   "outputs": [],
   "source": [
    "# Function for Splitting the data into training and testing datasets\n",
    "\n",
    "def create_train_test_data(num_pix,test_size=0.2):\n",
    "    cat_files = glob.glob(\"datasets/cat*\")\n",
    "    dog_files = glob.glob(\"datasets/dog*\")\n",
    "\n",
    "    # Restrict cat and dog files here for testing\n",
    "    cat_list = [convert_image_to_data(i, num_pix, num_pix) for i in cat_files]\n",
    "    dog_list = [convert_image_to_data(i, num_pix, num_pix) for i in dog_files]\n",
    "\n",
    "    y_cat = np.zeros(len(cat_list))\n",
    "    y_dog = np.ones(len(dog_list))\n",
    "\n",
    "    X = np.concatenate([cat_list, dog_list])\n",
    "    X = np.concatenate([cat_list, dog_list])\n",
    "    y = np.concatenate([y_cat, y_dog])\n",
    "\n",
    "    X_train, X_test, y_train, y_test = train_test_split(X, y, test_size=0.2, random_state=1, stratify=y)\n",
    "    return X_train, X_test, y_train, y_test"
   ]
  },
  {
   "cell_type": "code",
   "execution_count": 71,
   "metadata": {},
   "outputs": [],
   "source": [
    "# Set the value of num_pix\n",
    "num_pix = 64\n",
    "\n",
    "# Loading Dataset\n",
    "datasets = load_dataset(\"car_dataset.hdf5\")\n",
    "\n",
    "# Training data\n",
    "x = np.array(datasets[\"train\"][\"X\"])\n",
    "y = np.array(datasets[\"train\"][\"Y\"])\n",
    "\n",
    "# Development data\n",
    "x1 = np.array(datasets[\"dev\"][\"X\"])\n",
    "y1 = np.array(datasets[\"dev\"][\"Y\"])"
   ]
  },
  {
   "cell_type": "code",
   "execution_count": 72,
   "metadata": {},
   "outputs": [
    {
     "name": "stdout",
     "output_type": "stream",
     "text": [
      "Number of training examples:  517\n",
      "Number of testing examples:  172\n",
      "Height/Width of each image: 64\n",
      "(517, 64, 64, 3)\n",
      "(517,)\n",
      "(172, 64, 64, 3)\n",
      "(172,)\n"
     ]
    }
   ],
   "source": [
    "# Checking the number of all examples\n",
    "\n",
    "print(\"Number of training examples: \", x.shape[0])\n",
    "print(\"Number of testing examples: \", x1.shape[0])\n",
    "print(\"Height/Width of each image:\", num_pix)\n",
    "print (x.shape)\n",
    "print (y.shape)\n",
    "print (x1.shape)\n",
    "print (y1.shape)"
   ]
  },
  {
   "cell_type": "code",
   "execution_count": 73,
   "metadata": {},
   "outputs": [
    {
     "name": "stdout",
     "output_type": "stream",
     "text": [
      "train_set_y_f shape: (1, 517)\n",
      "test_set_y_f shape: (1, 172)\n",
      "train_set_x shape: (12288, 517)\n",
      "test_set_x shape: (12288, 172)\n"
     ]
    }
   ],
   "source": [
    "# Reshaping, Flattening and Normalizing the data\n",
    "flat_y = y.reshape(y.shape[0], -1).T\n",
    "flat_y1 = y1.reshape(y1.shape[0], -1).T\n",
    "\n",
    "train_set_yc = flat_y\n",
    "test_set_yc = flat_y1\n",
    "\n",
    "print (\"train_set_y_f shape: \" + str(flat_y.shape))\n",
    "print (\"test_set_y_f shape: \" + str(flat_y1.shape))\n",
    "\n",
    "flat_x = x.reshape(x.shape[0], -1).T\n",
    "flat_x1 = x1.reshape(x1.shape[0], -1).T\n",
    "\n",
    "print (\"train_set_x shape: \" + str(flat_x.shape))\n",
    "print (\"test_set_x shape: \" + str(flat_x1.shape))\n",
    "\n",
    "train_set_xc = flat_x/255\n",
    "test_set_xc = flat_x1/255"
   ]
  },
  {
   "cell_type": "code",
   "execution_count": 74,
   "metadata": {},
   "outputs": [],
   "source": [
    "# Sigmoid Function-\n",
    "\n",
    "def sigmoid(z):\n",
    "    \n",
    "    s = 1/(1+ np.exp(-z))\n",
    "    return s"
   ]
  },
  {
   "cell_type": "code",
   "execution_count": 75,
   "metadata": {},
   "outputs": [],
   "source": [
    "# Initialization-\n",
    "\n",
    "def initialize_with_zeros(dim):\n",
    "     \n",
    "    w = np.zeros(shape=(dim,1))\n",
    "    b = 0.0\n",
    "   \n",
    "    assert(w.shape == (dim, 1))\n",
    "    assert(isinstance(b, float) or isinstance(b, int))\n",
    "    \n",
    "    return w, b"
   ]
  },
  {
   "cell_type": "code",
   "execution_count": 76,
   "metadata": {},
   "outputs": [],
   "source": [
    "# Forward Propogation-\n",
    "\n",
    "def forward_propogation(w,b,X,Y) :\n",
    "    \n",
    "    m = X.shape[1]  \n",
    "   \n",
    "    Z= np.dot(w.T,X)+b\n",
    "    A = sigmoid(Z)     \n",
    "    cost = (-1/m) * np.sum(Y* np.log(A)+ (1- Y) * np.log(1-A))  \n",
    "    cost = np.squeeze(cost)\n",
    "    assert(cost.shape == ())\n",
    "    \n",
    "    return cost,A,m"
   ]
  },
  {
   "cell_type": "code",
   "execution_count": 77,
   "metadata": {},
   "outputs": [],
   "source": [
    "# Backward Propogation-\n",
    "\n",
    "def backward_propogation(w,b,X,Y) :\n",
    "    m = X.shape[1]  \n",
    "    Z= np.dot(w.T,X)+b\n",
    "    A = sigmoid(Z) \n",
    "    #A = forward_propogation(w,b,X,Y)\n",
    "    dz = A - Y\n",
    "    dw = (1/m)*np.dot(X,dz.T)\n",
    "    db = (1/m)*np.sum(dz)\n",
    "    \n",
    "    assert(dw.shape == w.shape)\n",
    "    assert(db.dtype == float)\n",
    "    \n",
    "    return dw,db"
   ]
  },
  {
   "cell_type": "code",
   "execution_count": 78,
   "metadata": {},
   "outputs": [],
   "source": [
    "# Optimization Function-\n",
    "\n",
    "def optimize(w, b, X, Y, num_iterations, learning_rate, print_cost= False) :\n",
    "    \n",
    "    costs = []\n",
    "    for i in range(num_iterations) :\n",
    "\n",
    "        cost,A,m = forward_propogation(w,b,X,Y)\n",
    "        dw,db = backward_propogation(w,b,X,Y)\n",
    "\n",
    "        w = w-learning_rate*dw\n",
    "        b = b-learning_rate*db\n",
    "\n",
    "        if i % 100 == 0:\n",
    "                costs.append(cost)\n",
    "\n",
    "        if print_cost and i % 100 == 0:\n",
    "                print (\"Cost after iteration %i: %f\" %(i,cost))\n",
    "\n",
    "    return dw,db,w,b,costs\n",
    "    "
   ]
  },
  {
   "cell_type": "code",
   "execution_count": 79,
   "metadata": {},
   "outputs": [],
   "source": [
    "# Predict Function-\n",
    "\n",
    "def predict(w, b, X_test):\n",
    "    \n",
    "    m = X_test.shape[1]\n",
    "    w = w.reshape(X_test.shape[0], 1)\n",
    "    Z= np.dot(w.T,X_test) + b\n",
    "    A = sigmoid(Z)\n",
    "    Y_prediction = np.around(A)\n",
    "    assert(Y_prediction.shape == (1, m))\n",
    "    \n",
    "    return Y_prediction"
   ]
  },
  {
   "cell_type": "code",
   "execution_count": 80,
   "metadata": {},
   "outputs": [],
   "source": [
    "# Logistic Regression Model-\n",
    "\n",
    "def model(X_train, Y_train, X_test, Y_test, num_iterations = 3000, learning_rate = 0.25, print_cost = False):\n",
    "       \n",
    "    # initialize parameters with zeros \n",
    "    n = X_train.shape[0]\n",
    "    w, b = initialize_with_zeros(dim=n)\n",
    "    \n",
    "    # Gradient descent \n",
    "    dw,db,w,b,costs = optimize(w, b, X_train, Y_train, num_iterations, learning_rate, print_cost)\n",
    "    \n",
    "    # Predicting test/train set\n",
    "    Y_prediction_test = predict(w,b,X_test)\n",
    "    Y_prediction_train = predict(w,b,X_train)\n",
    "\n",
    "    # Print train/test Errors\n",
    "    print(\"train accuracy: {} %\".format(100 - np.mean(np.abs(Y_prediction_train - Y_train)) * 100))\n",
    "    print(\"test accuracy: {} %\".format(100 - np.mean(np.abs(Y_prediction_test - Y_test)) * 100))\n",
    "\n",
    "    d = {\"costs\": costs,\n",
    "         \"Y_prediction_test\": Y_prediction_test, \n",
    "         \"Y_prediction_train\" : Y_prediction_train, \n",
    "         \"w\" : w, \n",
    "         \"b\" : b,\n",
    "         \"learning_rate\" : learning_rate,\n",
    "         \"num_iterations\": num_iterations}\n",
    "    \n",
    "    return d"
   ]
  },
  {
   "cell_type": "code",
   "execution_count": 81,
   "metadata": {},
   "outputs": [
    {
     "name": "stdout",
     "output_type": "stream",
     "text": [
      "(12288, 517)\n",
      "(1, 517)\n",
      "(12288, 173)\n",
      "(1, 173)\n"
     ]
    }
   ],
   "source": [
    "# Printing the sizes of datasets\n",
    "\n",
    "x = np.array(datasets[\"train\"][\"X\"])\n",
    "flat_x = x.reshape(x.shape[0], -1).T\n",
    "train_set_xc1 = flat_x/255\n",
    "print (train_set_xc1.shape)\n",
    "\n",
    "y = np.array(datasets[\"train\"][\"Y\"])\n",
    "flat_y = y.reshape(y.shape[0], -1).T\n",
    "train_set_yc1 = flat_y\n",
    "print (train_set_yc1.shape)\n",
    "\n",
    "x1 = np.array(datasets[\"test\"][\"X\"])\n",
    "flat_x1 = x1.reshape(x1.shape[0], -1).T\n",
    "test_set_xc1 = flat_x1/255\n",
    "print (test_set_xc1.shape)\n",
    "\n",
    "y1 = np.array(datasets[\"test\"][\"Y\"])\n",
    "flat_y1 = y1.reshape(y1.shape[0], -1).T\n",
    "test_set_yc1 = flat_y1\n",
    "print (test_set_yc1.shape)"
   ]
  },
  {
   "cell_type": "code",
   "execution_count": 82,
   "metadata": {},
   "outputs": [
    {
     "name": "stdout",
     "output_type": "stream",
     "text": [
      "Cost after iteration 0: 0.693147\n",
      "Cost after iteration 100: 0.548509\n",
      "Cost after iteration 200: 0.496297\n",
      "Cost after iteration 300: 0.459536\n",
      "Cost after iteration 400: 0.432244\n",
      "Cost after iteration 500: 0.411066\n",
      "Cost after iteration 600: 0.394034\n",
      "Cost after iteration 700: 0.379940\n",
      "Cost after iteration 800: 0.368004\n",
      "Cost after iteration 900: 0.357705\n",
      "Cost after iteration 1000: 0.348679\n",
      "Cost after iteration 1100: 0.340667\n",
      "Cost after iteration 1200: 0.333477\n",
      "Cost after iteration 1300: 0.326965\n",
      "Cost after iteration 1400: 0.321019\n",
      "Cost after iteration 1500: 0.315553\n",
      "Cost after iteration 1600: 0.310498\n",
      "Cost after iteration 1700: 0.305796\n",
      "Cost after iteration 1800: 0.301404\n",
      "Cost after iteration 1900: 0.297283\n",
      "Cost after iteration 2000: 0.293401\n",
      "Cost after iteration 2100: 0.289732\n",
      "Cost after iteration 2200: 0.286254\n",
      "Cost after iteration 2300: 0.282948\n",
      "Cost after iteration 2400: 0.279796\n",
      "Cost after iteration 2500: 0.276785\n",
      "Cost after iteration 2600: 0.273902\n",
      "Cost after iteration 2700: 0.271136\n",
      "Cost after iteration 2800: 0.268477\n",
      "Cost after iteration 2900: 0.265917\n",
      "Cost after iteration 3000: 0.263449\n",
      "Cost after iteration 3100: 0.261066\n",
      "Cost after iteration 3200: 0.258761\n",
      "Cost after iteration 3300: 0.256529\n",
      "Cost after iteration 3400: 0.254366\n",
      "Cost after iteration 3500: 0.252267\n",
      "Cost after iteration 3600: 0.250228\n",
      "Cost after iteration 3700: 0.248245\n",
      "Cost after iteration 3800: 0.246316\n",
      "Cost after iteration 3900: 0.244436\n",
      "Cost after iteration 4000: 0.242604\n",
      "Cost after iteration 4100: 0.240816\n",
      "Cost after iteration 4200: 0.239071\n",
      "Cost after iteration 4300: 0.237366\n",
      "Cost after iteration 4400: 0.235700\n",
      "Cost after iteration 4500: 0.234070\n",
      "Cost after iteration 4600: 0.232474\n",
      "Cost after iteration 4700: 0.230912\n",
      "Cost after iteration 4800: 0.229381\n",
      "Cost after iteration 4900: 0.227881\n",
      "train accuracy: 92.06963249516441 %\n",
      "test accuracy: 87.28323699421965 %\n"
     ]
    },
    {
     "data": {
      "image/png": "[encoded data removed]",
      "text/plain": [
       "<Figure size 432x288 with 1 Axes>"
      ]
     },
     "metadata": {},
     "output_type": "display_data"
    }
   ],
   "source": [
    "# Logistic Regression Model, Cost Function and it's Plot-\n",
    "\n",
    "d = model(train_set_xc1, train_set_yc1, test_set_xc1, test_set_yc1,  num_iterations = 5000, learning_rate = 0.0005, print_cost = True)\n",
    "\n",
    "costs =np.squeeze(d['costs'])\n",
    "\n",
    "plt.plot(costs)\n",
    "plt.ylabel('Cost')\n",
    "plt.title(\"Plot\")\n",
    "plt.xlabel('Iterations (per hundred)')\n",
    "plt.show()"
   ]
  },
  {
   "cell_type": "code",
   "execution_count": null,
   "metadata": {},
   "outputs": [],
   "source": [
    "# Deep Neural Network Classifier"
   ]
  },
  {
   "cell_type": "code",
   "execution_count": 83,
   "metadata": {},
   "outputs": [
    {
     "name": "stdout",
     "output_type": "stream",
     "text": [
      "The autoreload extension is already loaded. To reload it, use:\n",
      "  %reload_ext autoreload\n"
     ]
    }
   ],
   "source": [
    "# Importing the functions\n",
    "\n",
    "import numpy as np\n",
    "import h5py\n",
    "import matplotlib.pyplot as plt\n",
    "from testCases_v2 import *\n",
    "from dnn_utils_v2 import sigmoid, sigmoid_backward, relu, relu_backward\n",
    "from dnn_utils_v2 import load_data\n",
    "\n",
    "%matplotlib inline\n",
    "plt.rcParams['figure.figsize'] = (5.0, 4.0)\n",
    "plt.rcParams['image.interpolation'] = 'nearest'\n",
    "plt.rcParams['image.cmap'] = 'gray'\n",
    "\n",
    "%load_ext autoreload\n",
    "%autoreload 2\n",
    "\n",
    "np.random.seed(1)"
   ]
  },
  {
   "cell_type": "code",
   "execution_count": 84,
   "metadata": {},
   "outputs": [],
   "source": [
    "# Initialization-\n",
    "\n",
    "def initialize_parameters_deep(layer_dims):\n",
    "    \n",
    "    np.random.seed(1)\n",
    "    parameters = {}\n",
    "    L = len(layer_dims)            \n",
    "\n",
    "    for l in range(1, L):\n",
    "        parameters['W' + str(l)] = np.random.randn(layer_dims[l], layer_dims[l-1]) / np.sqrt(layer_dims[l-1])\n",
    "        parameters['b' + str(l)] = np.zeros((layer_dims[l], 1))\n",
    "        \n",
    "        assert(parameters['W' + str(l)].shape == (layer_dims[l], layer_dims[l-1]))\n",
    "        assert(parameters['b' + str(l)].shape == (layer_dims[l], 1))\n",
    "        \n",
    "    return parameters"
   ]
  },
  {
   "cell_type": "code",
   "execution_count": 85,
   "metadata": {},
   "outputs": [
    {
     "name": "stdout",
     "output_type": "stream",
     "text": [
      "W1 = [[ 0.72642933 -0.27358579 -0.23620559 -0.47984616  0.38702206]\n",
      " [-1.0292794   0.78030354 -0.34042208  0.14267862 -0.11152182]\n",
      " [ 0.65387455 -0.92132293 -0.14418936 -0.17175433  0.50703711]\n",
      " [-0.49188633 -0.07711224 -0.39259022  0.01887856  0.26064289]]\n",
      "b1 = [[0.]\n",
      " [0.]\n",
      " [0.]\n",
      " [0.]]\n",
      "W2 = [[-0.55030959  0.57236185  0.45079536  0.25124717]\n",
      " [ 0.45042797 -0.34186393 -0.06144511 -0.46788472]\n",
      " [-0.13394404  0.26517773 -0.34583038 -0.19837676]]\n",
      "b2 = [[0.]\n",
      " [0.]\n",
      " [0.]]\n"
     ]
    }
   ],
   "source": [
    "# Printing the value of all parameters\n",
    "\n",
    "np.random.seed(3)\n",
    "parameters = initialize_parameters_deep([5,4,3])\n",
    "print(\"W1 = \" + str(parameters[\"W1\"]))\n",
    "print(\"b1 = \" + str(parameters[\"b1\"]))\n",
    "print(\"W2 = \" + str(parameters[\"W2\"]))\n",
    "print(\"b2 = \" + str(parameters[\"b2\"]))"
   ]
  },
  {
   "cell_type": "code",
   "execution_count": 86,
   "metadata": {},
   "outputs": [],
   "source": [
    "# Forward Propogation for Deep Neural Network-\n",
    "\n",
    "# import the linear_activation_forward\n",
    "from dnn_utils_v2 import linear_activation_forward\n",
    "\n",
    "def L_model_forward(X, parameters):\n",
    "    \n",
    "    caches = []\n",
    "    A = X\n",
    "    L = len(parameters) // 2                  \n",
    "    \n",
    "    # Implementing [LINEAR -> RELU]*(L-1).\n",
    "    # Using a for loop to replicate [LINEAR->RELU] (L-1) times\n",
    "    for l in range(1, L):\n",
    "        A_prev = A \n",
    "        A, cache = linear_activation_forward(A_prev, parameters['W' + str(l)], parameters['b' + str(l)], activation = \"relu\")\n",
    "        caches.append(cache)\n",
    "    \n",
    "    # This is the last layer L which uses sigmoid activation function\n",
    "    # Implementing LINEAR -> SIGMOID. .\n",
    "    AL, cache = linear_activation_forward(A, parameters['W' + str(L)], parameters['b' + str(L)], activation = \"sigmoid\")\n",
    "    caches.append(cache)\n",
    "    assert(AL.shape == (1,X.shape[1]))\n",
    "    \n",
    "    return AL, caches"
   ]
  },
  {
   "cell_type": "code",
   "execution_count": 87,
   "metadata": {},
   "outputs": [
    {
     "name": "stdout",
     "output_type": "stream",
     "text": [
      "AL = [[0.17007265 0.2524272 ]]\n",
      "Length of caches list = 2\n"
     ]
    }
   ],
   "source": [
    "X, parameters = L_model_forward_test_case()\n",
    "AL, caches = L_model_forward(X, parameters)\n",
    "print(\"AL = \" + str(AL))\n",
    "print(\"Length of caches list = \" + str(len(caches)))"
   ]
  },
  {
   "cell_type": "code",
   "execution_count": 88,
   "metadata": {},
   "outputs": [
    {
     "name": "stdout",
     "output_type": "stream",
     "text": [
      "cost = 0.41493159961539694\n"
     ]
    }
   ],
   "source": [
    "# Importing cost function from the utility file\n",
    "from dnn_utils_v2 import compute_cost\n",
    "\n",
    "Y, AL = compute_cost_test_case()\n",
    "print(\"cost = \" + str(compute_cost(AL, Y)))"
   ]
  },
  {
   "cell_type": "code",
   "execution_count": 89,
   "metadata": {},
   "outputs": [],
   "source": [
    "# Backward Propogation for Deep Neural Network-\n",
    "\n",
    "from dnn_utils_v2 import linear_activation_backward\n",
    "\n",
    "def L_model_backward(AL, Y, caches):\n",
    "    \n",
    "    grads = {}\n",
    "    L = len(caches) \n",
    "    m = AL.shape[1]\n",
    "    Y = Y.reshape(AL.shape) \n",
    "    \n",
    "    # Initializing the backward propagation\n",
    "    dAL = - (np.divide(Y, AL) - np.divide(1-Y, 1-AL))\n",
    "    \n",
    "    # Lth layer (SIGMOID -> LINEAR) gradients. Inputs: \"AL, Y, caches\". Outputs: \"grads[\"dAL\"], grads[\"dWL\"], grads[\"dbL\"]\n",
    "    current_cache = caches[L-1]\n",
    "    grads[\"dA\" + str(L)], grads[\"dW\" + str(L)], grads[\"db\" + str(L)] = linear_activation_backward(dAL, current_cache, activation = \"sigmoid\")\n",
    "    \n",
    "    for l in reversed(range(L-1)):\n",
    "        # lth layer: (RELU -> LINEAR) gradients.\n",
    "        current_cache = caches[l]\n",
    "        # using linear_activation_backward to get the derivatives\n",
    "        dA_prev_temp, dW_temp, db_temp = linear_activation_backward(grads[\"dA\" + str(l + 2)], current_cache, activation = \"relu\")\n",
    "        # saving the derivatives into a grads dictionary\n",
    "        grads[\"dA\" + str(l + 1)] = dA_prev_temp\n",
    "        grads[\"dW\" + str(l + 1)] = dW_temp\n",
    "        grads[\"db\" + str(l + 1)] = db_temp\n",
    "\n",
    "    return grads"
   ]
  },
  {
   "cell_type": "code",
   "execution_count": 90,
   "metadata": {},
   "outputs": [
    {
     "name": "stdout",
     "output_type": "stream",
     "text": [
      "dW1 = [[0.41010002 0.07807203 0.13798444 0.10502167]\n",
      " [0.         0.         0.         0.        ]\n",
      " [0.05283652 0.01005865 0.01777766 0.0135308 ]]\n",
      "db1 = [[-0.22007063]\n",
      " [ 0.        ]\n",
      " [-0.02835349]]\n",
      "dA1 = [[ 0.          0.52257901]\n",
      " [ 0.         -0.3269206 ]\n",
      " [ 0.         -0.32070404]\n",
      " [ 0.         -0.74079187]]\n"
     ]
    }
   ],
   "source": [
    "# Printing the value of dW1, db1, dA1-\n",
    "\n",
    "AL, Y_assess, caches = L_model_backward_test_case()\n",
    "grads = L_model_backward(AL, Y_assess, caches)\n",
    "print (\"dW1 = \"+ str(grads[\"dW1\"]))\n",
    "print (\"db1 = \"+ str(grads[\"db1\"]))\n",
    "print (\"dA1 = \"+ str(grads[\"dA1\"]))"
   ]
  },
  {
   "cell_type": "code",
   "execution_count": 91,
   "metadata": {},
   "outputs": [
    {
     "name": "stdout",
     "output_type": "stream",
     "text": [
      "W1 = [[-0.59562069 -0.09991781 -2.14584584  1.82662008]\n",
      " [-1.76569676 -0.80627147  0.51115557 -1.18258802]\n",
      " [-1.0535704  -0.86128581  0.68284052  2.20374577]]\n",
      "b1 = [[-0.04659241]\n",
      " [-1.28888275]\n",
      " [ 0.53405496]]\n",
      "W2 = [[-0.55569196  0.0354055   1.32964895]]\n",
      "b2 = [[-0.84610769]]\n"
     ]
    }
   ],
   "source": [
    "# Printing the values of all parameters-\n",
    "\n",
    "from dnn_utils_v2 import update_parameters\n",
    "parameters, grads = update_parameters_test_case()\n",
    "parameters = update_parameters(parameters, grads, 0.1)\n",
    "\n",
    "print (\"W1 = \"+ str(parameters[\"W1\"]))\n",
    "print (\"b1 = \"+ str(parameters[\"b1\"]))\n",
    "print (\"W2 = \"+ str(parameters[\"W2\"]))\n",
    "print (\"b2 = \"+ str(parameters[\"b2\"]))"
   ]
  },
  {
   "cell_type": "code",
   "execution_count": 92,
   "metadata": {},
   "outputs": [],
   "source": [
    "# Deep Neural Network Model Implementation-\n",
    "\n",
    "def L_layer_model(X, Y, layers_dims, learning_rate = 0.0075, num_iterations = 3000, print_cost=False):\n",
    "\n",
    "    np.random.seed(1)\n",
    "    costs = []                         \n",
    "    \n",
    "    # Parameters initialization\n",
    "    parameters = initialize_parameters_deep(layer_dims)\n",
    "    \n",
    "    # Loop (gradient descent)\n",
    "    for i in range(0, num_iterations):\n",
    "\n",
    "        # Forward propagation: [LINEAR -> RELU]*(L-1) -> LINEAR -> SIGMOID.\n",
    "        AL, caches = L_model_forward(X, parameters)\n",
    "        \n",
    "        # Computing cost.\n",
    "        cost = compute_cost(AL, Y)\n",
    "        \n",
    "        # Backward propagation.\n",
    "        grads = L_model_backward(AL, Y, caches)\n",
    "        \n",
    "        # Updating parameters.\n",
    "        parameters = update_parameters(parameters, grads, learning_rate)\n",
    "                \n",
    "        # Printing the cost every 100 training example\n",
    "        if print_cost and i % 100 == 0:\n",
    "            print (\"Cost after iteration %i: %f\" %(i, cost))\n",
    "        if print_cost and i % 100 == 0:\n",
    "            costs.append(cost)\n",
    "            \n",
    "    # Ploting the cost\n",
    "    plt.plot(np.squeeze(costs))\n",
    "    plt.ylabel('Cost')\n",
    "    plt.xlabel('Iterations (per hundreds)')\n",
    "    plt.title(\"Learning rate =\" + str(learning_rate))\n",
    "    plt.show()\n",
    "    \n",
    "    return parameters"
   ]
  },
  {
   "cell_type": "code",
   "execution_count": 93,
   "metadata": {},
   "outputs": [
    {
     "name": "stdout",
     "output_type": "stream",
     "text": [
      "(12288, 517)\n",
      "(1, 517)\n",
      "(12288, 173)\n",
      "(1, 173)\n"
     ]
    }
   ],
   "source": [
    "# Load the dataset and print their sizes\n",
    "train_x_orig = train_set_xc1 \n",
    "train_y = train_set_yc1\n",
    "test_x_orig = test_set_xc1 \n",
    "test_y = test_set_yc1 \n",
    "\n",
    "print(train_x_orig.shape)\n",
    "print(train_y.shape)\n",
    "print(test_x_orig.shape)\n",
    "print(test_y.shape)"
   ]
  },
  {
   "cell_type": "code",
   "execution_count": 94,
   "metadata": {},
   "outputs": [
    {
     "name": "stdout",
     "output_type": "stream",
     "text": [
      "Cost after iteration 0: 0.642773\n",
      "Cost after iteration 100: 0.411428\n",
      "Cost after iteration 200: 0.327570\n",
      "Cost after iteration 300: 0.278502\n",
      "Cost after iteration 400: 0.232496\n",
      "Cost after iteration 500: 0.203679\n",
      "Cost after iteration 600: 0.280351\n",
      "Cost after iteration 700: 0.106251\n",
      "Cost after iteration 800: 0.087284\n",
      "Cost after iteration 900: 0.067336\n",
      "Cost after iteration 1000: 0.204383\n",
      "Cost after iteration 1100: 0.060864\n",
      "Cost after iteration 1200: 0.046707\n",
      "Cost after iteration 1300: 0.036495\n",
      "Cost after iteration 1400: 0.029322\n",
      "Cost after iteration 1500: 0.024356\n",
      "Cost after iteration 1600: 0.020823\n",
      "Cost after iteration 1700: 0.018232\n",
      "Cost after iteration 1800: 0.016275\n",
      "Cost after iteration 1900: 0.014755\n",
      "Cost after iteration 2000: 0.013553\n",
      "Cost after iteration 2100: 0.012586\n",
      "Cost after iteration 2200: 0.011792\n",
      "Cost after iteration 2300: 0.011131\n",
      "Cost after iteration 2400: 0.010572\n",
      "Cost after iteration 2500: 0.010095\n",
      "Cost after iteration 2600: 0.009682\n",
      "Cost after iteration 2700: 0.009321\n",
      "Cost after iteration 2800: 0.009023\n",
      "Cost after iteration 2900: 0.008762\n",
      "Cost after iteration 3000: 0.008531\n",
      "Cost after iteration 3100: 0.008325\n",
      "Cost after iteration 3200: 0.008139\n",
      "Cost after iteration 3300: 0.007972\n",
      "Cost after iteration 3400: 0.007820\n",
      "Cost after iteration 3500: 0.007681\n",
      "Cost after iteration 3600: 0.007556\n",
      "Cost after iteration 3700: 0.007441\n",
      "Cost after iteration 3800: 0.007334\n",
      "Cost after iteration 3900: 0.007236\n",
      "Cost after iteration 4000: 0.007144\n",
      "Cost after iteration 4100: 0.007059\n",
      "Cost after iteration 4200: 0.006979\n",
      "Cost after iteration 4300: 0.006904\n",
      "Cost after iteration 4400: 0.006834\n",
      "Cost after iteration 4500: 0.006767\n",
      "Cost after iteration 4600: 0.006704\n",
      "Cost after iteration 4700: 0.006645\n",
      "Cost after iteration 4800: 0.006588\n",
      "Cost after iteration 4900: 0.006534\n"
     ]
    },
    {
     "data": {
      "image/png": "[encoded data removed]",
      "text/plain": [
       "<Figure size 360x288 with 1 Axes>"
      ]
     },
     "metadata": {},
     "output_type": "display_data"
    }
   ],
   "source": [
    "# Training the model-\n",
    "\n",
    "layer_dims = [12288,15,10,7,1]\n",
    "model_parameters = L_layer_model(train_x_orig, train_y, layer_dims, num_iterations = 5000, print_cost = True)"
   ]
  },
  {
   "cell_type": "code",
   "execution_count": 95,
   "metadata": {},
   "outputs": [],
   "source": [
    "# Predict Function-\n",
    "\n",
    "def predict(X, parameters):\n",
    "    \n",
    "    # Forward propagation\n",
    "    probas, caches = L_model_forward(X, parameters)\n",
    "\n",
    "    # Round the probabilities to get the class labels.\n",
    "    probability = probas > 0.5\n",
    "    p = probability.astype(float)\n",
    "        \n",
    "    return p"
   ]
  },
  {
   "cell_type": "code",
   "execution_count": 97,
   "metadata": {},
   "outputs": [
    {
     "name": "stdout",
     "output_type": "stream",
     "text": [
      "Train Accuracy: 1.0000000000000002\n",
      "Test Accuracy: 0.9017341040462425\n"
     ]
    }
   ],
   "source": [
    "# Predictions-\n",
    "\n",
    "predictions_train = predict(train_x_orig, model_parameters)\n",
    "m_train = train_y.shape[1]\n",
    "print(\"Train Accuracy: \"  + str(np.sum((predictions_train == train_y)/m_train)))\n",
    "m_test = test_y.shape[1]\n",
    "predictions_test = predict(test_x_orig, model_parameters)\n",
    "print(\"Test Accuracy: \"  + str(np.sum((predictions_test == test_y)/m_test)))"
   ]
  },
  {
   "cell_type": "code",
   "execution_count": null,
   "metadata": {},
   "outputs": [],
   "source": [
    "# Results-\n",
    "\n",
    "\n",
    "# Cost for Logistic Regression after 5000 iterations and learning rate 0.0005 is 0.227881.\n",
    "# Accuracy for Logistic Regression after 5000 iterations and learning rate 0.0005 is -\n",
    "# train accuracy: 92.06963249516441 %\n",
    "# test accuracy: 87.28323699421965 %\n",
    "\n",
    "# Cost for Deep Neural Network with 3 hidden layers after 5000 iterations and learning rate 0.0075 is 0.031003.\n",
    "# Accuracy Deep Neural Network with 3 hidden layers is -\n",
    "# Train Accuracy: 99.03288201160545 %\n",
    "# Test Accuracy: 90.17341040462425 %\n",
    "\n",
    "# Hence, we can conclude that Deep Neural Network model is able to reduce the cost function to a lower value than Logistic Regression Model.\n",
    "# Also, accuracy of Deep Neural Network model on testing data is around 90 %, whereas for the Logistic Regression Model is around 87 %.\n",
    "# Hence, we can conclude that Deep Neural Network model is a better classifier than Logistic Regression classifier."
   ]
  }
 ],
 "metadata": {
  "kernelspec": {
   "display_name": "Python 3",
   "language": "python",
   "name": "python3"
  },
  "language_info": {
   "codemirror_mode": {
    "name": "ipython",
    "version": 3
   },
   "file_extension": ".py",
   "mimetype": "text/x-python",
   "name": "python",
   "nbconvert_exporter": "python",
   "pygments_lexer": "ipython3",
   "version": "3.8.3"
  }
 },
 "nbformat": 4,
 "nbformat_minor": 2
}
